{
 "cells": [
  {
   "cell_type": "code",
   "execution_count": 221,
   "metadata": {},
   "outputs": [
    {
     "data": {
      "text/plain": [
       "['.ipynb_checkpoints',\n",
       " 'backup',\n",
       " 'Requirments.txt',\n",
       " 'test.txt',\n",
       " 'Thanos project.ipynb',\n",
       " 'Thanos2.ipynb',\n",
       " 'Thanos3.ipynb',\n",
       " 'txt.py',\n",
       " 'universe',\n",
       " 'Untitled.ipynb']"
      ]
     },
     "execution_count": 221,
     "metadata": {},
     "output_type": "execute_result"
    }
   ],
   "source": [
    "import os \n",
    "import random \n",
    "import time\n",
    "import shutil\n",
    "\n",
    "os.chdir('C:/Users/Commandor/course/Thanos Project')\n",
    "os.listdir()\n",
    "\n"
   ]
  },
  {
   "cell_type": "code",
   "execution_count": 220,
   "metadata": {},
   "outputs": [],
   "source": [
    "import os.path\n",
    "file_name = 'universe'\n",
    "fff=os.path.abspath(file_name)\n",
    "os.chdir(fff)\n",
    "\n"
   ]
  },
  {
   "cell_type": "code",
   "execution_count": 224,
   "metadata": {},
   "outputs": [],
   "source": [
    "def list_img(folder_name):\n",
    "    if folder_name=='backup':\n",
    "        \n",
    "        os.chdir('..')\n",
    "        os.chdir('./backup')\n",
    "        os.listdir()\n",
    "        return os.listdir()\n",
    "\n",
    "    elif folder_name == 'universe':\n",
    "        os.chdir('C:/Users/Commandor/course/Thanos Project')\n",
    "        os.chdir('./universe')\n",
    "        return os.listdir()\n",
    "            \n",
    "    else:\n",
    "        print('file not found')\n",
    "    return back_list   "
   ]
  },
  {
   "cell_type": "code",
   "execution_count": 225,
   "metadata": {},
   "outputs": [
    {
     "data": {
      "text/plain": [
       "['cover001.png',\n",
       " 'cover002.png',\n",
       " 'cover003.png',\n",
       " 'cover004.png',\n",
       " 'cover005.png',\n",
       " 'cover006.png',\n",
       " 'cover007.png',\n",
       " 'cover008.png',\n",
       " 'cover009.png',\n",
       " 'cover010.png',\n",
       " 'cover011.png',\n",
       " 'cover012.png',\n",
       " 'cover013.png',\n",
       " 'cover014.png',\n",
       " 'cover015.png',\n",
       " 'cover016.png',\n",
       " 'cover017.png',\n",
       " 'cover018.png',\n",
       " 'cover019.png',\n",
       " 'cover020.png',\n",
       " 'cover021.png',\n",
       " 'cover022.png',\n",
       " 'cover023.png',\n",
       " 'cover024.png',\n",
       " 'cover025.png',\n",
       " 'cover026.png',\n",
       " 'cover027.png',\n",
       " 'cover028.png',\n",
       " 'cover029.png',\n",
       " 'cover030.png',\n",
       " 'cover031.png',\n",
       " 'cover032.png',\n",
       " 'cover033.png',\n",
       " 'cover034.png',\n",
       " 'cover035.png',\n",
       " 'cover036.png',\n",
       " 'cover037.png',\n",
       " 'cover038.png',\n",
       " 'cover039.png',\n",
       " 'cover040.png',\n",
       " 'cover041.png',\n",
       " 'cover042.png',\n",
       " 'cover043.png',\n",
       " 'cover044.png',\n",
       " 'cover045.png',\n",
       " 'cover046.png',\n",
       " 'cover047.png',\n",
       " 'cover048.png',\n",
       " 'cover049.png',\n",
       " 'cover050.png']"
      ]
     },
     "execution_count": 225,
     "metadata": {},
     "output_type": "execute_result"
    }
   ],
   "source": [
    "list_img('universe')\n",
    "os.listdir()"
   ]
  },
  {
   "cell_type": "code",
   "execution_count": 226,
   "metadata": {},
   "outputs": [],
   "source": [
    "def Thanos(list_img_ret):\n",
    "    listt=list_img_ret\n",
    "    k = int(len(listt)/2)\n",
    "    will_killed=random.sample(listt,k)\n",
    "    was_killed=[x for x in will_killed]\n",
    "\n",
    "    for i in range(k):\n",
    "        #time.sleep(2)\n",
    "        print(will_killed[i],'Killed')\n",
    "        was_killed=[x for x in will_killed]\n",
    "        os.remove(will_killed[i])\n",
    "    return was_killed"
   ]
  },
  {
   "cell_type": "code",
   "execution_count": 227,
   "metadata": {},
   "outputs": [
    {
     "name": "stdout",
     "output_type": "stream",
     "text": [
      "cover039.png Killed\n",
      "cover042.png Killed\n",
      "cover044.png Killed\n",
      "cover018.png Killed\n",
      "cover033.png Killed\n",
      "cover038.png Killed\n",
      "cover004.png Killed\n",
      "cover011.png Killed\n",
      "cover021.png Killed\n",
      "cover040.png Killed\n",
      "cover007.png Killed\n",
      "cover019.png Killed\n",
      "cover031.png Killed\n",
      "cover045.png Killed\n",
      "cover002.png Killed\n",
      "cover006.png Killed\n",
      "cover001.png Killed\n",
      "cover025.png Killed\n",
      "cover049.png Killed\n",
      "cover017.png Killed\n",
      "cover020.png Killed\n",
      "cover014.png Killed\n",
      "cover035.png Killed\n",
      "cover016.png Killed\n",
      "cover043.png Killed\n"
     ]
    }
   ],
   "source": [
    "was_killed=Thanos(list_img('universe'))\n"
   ]
  },
  {
   "cell_type": "code",
   "execution_count": 105,
   "metadata": {},
   "outputs": [
    {
     "ename": "FileNotFoundError",
     "evalue": "[WinError 2] The system cannot find the file specified: 'C:\\\\Users\\\\Commandor\\\\course\\\\Thanos Project\\\\universe\\\\universe'",
     "output_type": "error",
     "traceback": [
      "\u001b[1;31m---------------------------------------------------------------------------\u001b[0m",
      "\u001b[1;31mFileNotFoundError\u001b[0m                         Traceback (most recent call last)",
      "\u001b[1;32m<ipython-input-105-0e5b7e7fc1ef>\u001b[0m in \u001b[0;36m<module>\u001b[1;34m\u001b[0m\n\u001b[1;32m----> 1\u001b[1;33m \u001b[0mlist_img\u001b[0m\u001b[1;33m(\u001b[0m\u001b[1;34m'universe'\u001b[0m\u001b[1;33m)\u001b[0m\u001b[1;33m\u001b[0m\u001b[1;33m\u001b[0m\u001b[0m\n\u001b[0m\u001b[0;32m      2\u001b[0m \u001b[0mos\u001b[0m\u001b[1;33m.\u001b[0m\u001b[0mlistdir\u001b[0m\u001b[1;33m(\u001b[0m\u001b[1;33m)\u001b[0m\u001b[1;33m\u001b[0m\u001b[1;33m\u001b[0m\u001b[0m\n",
      "\u001b[1;32m<ipython-input-103-e4df0f558f66>\u001b[0m in \u001b[0;36mlist_img\u001b[1;34m(folder_name)\u001b[0m\n\u001b[0;32m     21\u001b[0m             \u001b[1;31m#folder_name='Thanos Project/universe'\u001b[0m\u001b[1;33m\u001b[0m\u001b[1;33m\u001b[0m\u001b[1;33m\u001b[0m\u001b[0m\n\u001b[0;32m     22\u001b[0m         \u001b[0mfff\u001b[0m\u001b[1;33m=\u001b[0m\u001b[0mos\u001b[0m\u001b[1;33m.\u001b[0m\u001b[0mpath\u001b[0m\u001b[1;33m.\u001b[0m\u001b[0mabspath\u001b[0m\u001b[1;33m(\u001b[0m\u001b[0mfolder_name\u001b[0m\u001b[1;33m)\u001b[0m\u001b[1;33m\u001b[0m\u001b[1;33m\u001b[0m\u001b[0m\n\u001b[1;32m---> 23\u001b[1;33m         \u001b[0mos\u001b[0m\u001b[1;33m.\u001b[0m\u001b[0mchdir\u001b[0m\u001b[1;33m(\u001b[0m\u001b[0mfff\u001b[0m\u001b[1;33m)\u001b[0m\u001b[1;33m\u001b[0m\u001b[1;33m\u001b[0m\u001b[0m\n\u001b[0m\u001b[0;32m     24\u001b[0m         \u001b[0mflag2\u001b[0m\u001b[1;33m=\u001b[0m\u001b[1;32mTrue\u001b[0m\u001b[1;33m\u001b[0m\u001b[1;33m\u001b[0m\u001b[0m\n\u001b[0;32m     25\u001b[0m         \u001b[1;32mreturn\u001b[0m \u001b[0mos\u001b[0m\u001b[1;33m.\u001b[0m\u001b[0mlistdir\u001b[0m\u001b[1;33m(\u001b[0m\u001b[1;33m)\u001b[0m\u001b[1;33m\u001b[0m\u001b[1;33m\u001b[0m\u001b[0m\n",
      "\u001b[1;31mFileNotFoundError\u001b[0m: [WinError 2] The system cannot find the file specified: 'C:\\\\Users\\\\Commandor\\\\course\\\\Thanos Project\\\\universe\\\\universe'"
     ]
    }
   ],
   "source": [
    "\n"
   ]
  },
  {
   "cell_type": "code",
   "execution_count": 228,
   "metadata": {},
   "outputs": [],
   "source": [
    "def recover():\n",
    "    list22=os.listdir()\n",
    "    for i in  range (len(was_killed)):\n",
    "        if was_killed[i] not in list22:\n",
    "            list22.append(was_killed[i])\n",
    "            path=r'C:/Users/Commandor/course/Thanos Project/backup/'\n",
    "            path2=os.path.join(path,was_killed[i])\n",
    "            path3=r'C:/Users/Commandor/course/Thanos Project/universe/'\n",
    "            path4=os.path.join(path3,was_killed[i])\n",
    "            print(was_killed[i],'Recoverd')\n",
    "            shutil.copyfile(path2, path4) \n",
    "    \n"
   ]
  },
  {
   "cell_type": "code",
   "execution_count": null,
   "metadata": {},
   "outputs": [],
   "source": []
  },
  {
   "cell_type": "code",
   "execution_count": 229,
   "metadata": {},
   "outputs": [
    {
     "name": "stdout",
     "output_type": "stream",
     "text": [
      "cover039.png Recoverd\n",
      "cover042.png Recoverd\n",
      "cover044.png Recoverd\n",
      "cover018.png Recoverd\n",
      "cover033.png Recoverd\n",
      "cover038.png Recoverd\n",
      "cover004.png Recoverd\n",
      "cover011.png Recoverd\n",
      "cover021.png Recoverd\n",
      "cover040.png Recoverd\n",
      "cover007.png Recoverd\n",
      "cover019.png Recoverd\n",
      "cover031.png Recoverd\n",
      "cover045.png Recoverd\n",
      "cover002.png Recoverd\n",
      "cover006.png Recoverd\n",
      "cover001.png Recoverd\n",
      "cover025.png Recoverd\n",
      "cover049.png Recoverd\n",
      "cover017.png Recoverd\n",
      "cover020.png Recoverd\n",
      "cover014.png Recoverd\n",
      "cover035.png Recoverd\n",
      "cover016.png Recoverd\n",
      "cover043.png Recoverd\n"
     ]
    },
    {
     "data": {
      "text/plain": [
       "'C:\\\\Users\\\\Commandor\\\\course\\\\Thanos Project\\\\universe'"
      ]
     },
     "execution_count": 229,
     "metadata": {},
     "output_type": "execute_result"
    }
   ],
   "source": [
    "\n",
    "recover()\n",
    "os.getcwd()\n"
   ]
  }
 ],
 "metadata": {
  "kernelspec": {
   "display_name": "Python 3",
   "language": "python",
   "name": "python3"
  },
  "language_info": {
   "codemirror_mode": {
    "name": "ipython",
    "version": 3
   },
   "file_extension": ".py",
   "mimetype": "text/x-python",
   "name": "python",
   "nbconvert_exporter": "python",
   "pygments_lexer": "ipython3",
   "version": "3.7.6"
  }
 },
 "nbformat": 4,
 "nbformat_minor": 4
}
