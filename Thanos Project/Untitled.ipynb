{
 "cells": [
  {
   "cell_type": "code",
   "execution_count": 4,
   "metadata": {},
   "outputs": [
    {
     "data": {
      "text/plain": [
       "<os._wrap_close at 0x1c424f75b48>"
      ]
     },
     "execution_count": 4,
     "metadata": {},
     "output_type": "execute_result"
    }
   ],
   "source": [
    "import os \n",
    "os.listdir()\n",
    "os.popen('copy copy1.txt txt.py')\n"
   ]
  },
  {
   "cell_type": "code",
   "execution_count": 12,
   "metadata": {},
   "outputs": [
    {
     "name": "stdout",
     "output_type": "stream",
     "text": [
      "C:\\Users\\Commandor\\course\\Thanos Project\n",
      "['.ipynb_checkpoints', 'backup', 'Requirments.txt', 'test.txt', 'Thanos project.ipynb', 'Thanos2.ipynb', 'txt.py', 'universe', 'Untitled.ipynb']\n"
     ]
    }
   ],
   "source": [
    "import os\n",
    "import shutil\n",
    "\n",
    "# getting the current working directory\n",
    "src_dir = os.getcwd()\n",
    "\n",
    "# printing current directory\n",
    "print(src_dir) \n",
    "\n",
    "# copying the files\n",
    "shutil.copyfile('test.txt', 'C:/Users/Commandor/course/Thanos Project/backup/test.txt.copy2') #copy src to dst\n",
    "\n",
    "# printing the list of new files\n",
    "print(os.listdir()) "
   ]
  },
  {
   "cell_type": "code",
   "execution_count": null,
   "metadata": {},
   "outputs": [],
   "source": []
  }
 ],
 "metadata": {
  "kernelspec": {
   "display_name": "Python 3",
   "language": "python",
   "name": "python3"
  },
  "language_info": {
   "codemirror_mode": {
    "name": "ipython",
    "version": 3
   },
   "file_extension": ".py",
   "mimetype": "text/x-python",
   "name": "python",
   "nbconvert_exporter": "python",
   "pygments_lexer": "ipython3",
   "version": "3.7.6"
  }
 },
 "nbformat": 4,
 "nbformat_minor": 4
}
