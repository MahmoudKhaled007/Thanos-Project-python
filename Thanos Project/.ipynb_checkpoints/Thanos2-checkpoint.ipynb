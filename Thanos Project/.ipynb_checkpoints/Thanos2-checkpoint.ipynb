{
 "cells": [
  {
   "cell_type": "code",
   "execution_count": 3,
   "metadata": {},
   "outputs": [
    {
     "data": {
      "text/plain": [
       "['.ipynb_checkpoints',\n",
       " 'backup',\n",
       " 'Requirments.txt',\n",
       " 'test.txt',\n",
       " 'Thanos project.ipynb',\n",
       " 'Thanos2.ipynb',\n",
       " 'txt.py',\n",
       " 'universe',\n",
       " 'Untitled.ipynb']"
      ]
     },
     "execution_count": 3,
     "metadata": {},
     "output_type": "execute_result"
    }
   ],
   "source": [
    "import os \n",
    "import random \n",
    "import time\n",
    "import shutil\n",
    "\n",
    "os.chdir('C:/Users/Commandor/course/Thanos Project')\n",
    "os.listdir()\n",
    "\n"
   ]
  },
  {
   "cell_type": "code",
   "execution_count": 4,
   "metadata": {},
   "outputs": [],
   "source": [
    "def list_img(folder_name):\n",
    "    if folder_name=='backup':\n",
    "        \n",
    "        os.chdir('..')\n",
    "        os.chdir('./backup')\n",
    "        os.listdir()\n",
    "        return os.listdir()\n",
    "\n",
    "    elif folder_name == 'universe':\n",
    "        os.chdir('C:/Users/Commandor/course/Thanos Project')\n",
    "        os.chdir('./universe')\n",
    "        return os.listdir()\n",
    "            \n",
    "    else:\n",
    "        print('file not found')\n",
    "    return back_list   "
   ]
  },
  {
   "cell_type": "code",
   "execution_count": 5,
   "metadata": {},
   "outputs": [],
   "source": [
    "def Thanos(list_img_ret):\n",
    "    listt=list_img_ret\n",
    "    k = int(len(listt)/2)\n",
    "    will_killed=random.sample(listt,k)\n",
    "    was_killed=[x for x in will_killed]\n",
    "\n",
    "    for i in range(k):\n",
    "        #time.sleep(2)\n",
    "        print(will_killed[i],'Killed')\n",
    "        was_killed=[x for x in will_killed]\n",
    "        os.remove(will_killed[i])\n",
    "    return was_killed"
   ]
  },
  {
   "cell_type": "code",
   "execution_count": 27,
   "metadata": {},
   "outputs": [
    {
     "name": "stdout",
     "output_type": "stream",
     "text": [
      "cover008.png Killed\n",
      "cover009.png Killed\n",
      "cover043.png Killed\n",
      "cover041.png Killed\n",
      "cover011.png Killed\n",
      "cover005.png Killed\n",
      "cover015.png Killed\n",
      "cover020.png Killed\n",
      "cover030.png Killed\n",
      "cover022.png Killed\n",
      "cover031.png Killed\n",
      "cover007.png Killed\n",
      "cover044.png Killed\n",
      "cover028.png Killed\n",
      "cover024.png Killed\n",
      "cover042.png Killed\n",
      "cover006.png Killed\n",
      "cover047.png Killed\n",
      "cover010.png Killed\n",
      "cover045.png Killed\n",
      "cover035.png Killed\n",
      "cover039.png Killed\n",
      "cover029.png Killed\n",
      "cover027.png Killed\n",
      "cover033.png Killed\n"
     ]
    }
   ],
   "source": [
    "was_killed=Thanos(list_img('universe'))\n"
   ]
  },
  {
   "cell_type": "code",
   "execution_count": 10,
   "metadata": {},
   "outputs": [
    {
     "data": {
      "text/plain": [
       "['cover001.png',\n",
       " 'cover004.png',\n",
       " 'cover012.png',\n",
       " 'cover013.png',\n",
       " 'cover025.png',\n",
       " 'cover028.png',\n",
       " 'cover030.png',\n",
       " 'cover034.png',\n",
       " 'cover035.png',\n",
       " 'cover038.png',\n",
       " 'cover043.png',\n",
       " 'cover045.png',\n",
       " 'cover046.png']"
      ]
     },
     "execution_count": 10,
     "metadata": {},
     "output_type": "execute_result"
    }
   ],
   "source": [
    "list_img('universe')\n"
   ]
  },
  {
   "cell_type": "code",
   "execution_count": 26,
   "metadata": {},
   "outputs": [],
   "source": [
    "def recover():\n",
    "    list22=os.listdir()\n",
    "    for i in  range (len(was_killed)):\n",
    "        if was_killed[i] not in list22:\n",
    "            list22.append(was_killed[i])\n",
    "            path=r'C:/Users/Commandor/course/Thanos Project/backup/'\n",
    "            path2=os.path.join(path,was_killed[i])\n",
    "            path3=r'C:/Users/Commandor/course/Thanos Project/universe/'\n",
    "            path4=os.path.join(path3,was_killed[i])\n",
    "            print(was_killed[i],'Recoverd')\n",
    "            shutil.copyfile(path2, path4) \n",
    "    \n"
   ]
  },
  {
   "cell_type": "code",
   "execution_count": 81,
   "metadata": {},
   "outputs": [
    {
     "name": "stdout",
     "output_type": "stream",
     "text": [
      "C:/Users/Commandor/course/Thanos Project/backup/cover009.png\n"
     ]
    }
   ],
   "source": []
  },
  {
   "cell_type": "code",
   "execution_count": 28,
   "metadata": {},
   "outputs": [
    {
     "name": "stdout",
     "output_type": "stream",
     "text": [
      "cover008.png Recoverd\n",
      "cover009.png Recoverd\n",
      "cover043.png Recoverd\n",
      "cover041.png Recoverd\n",
      "cover011.png Recoverd\n",
      "cover005.png Recoverd\n",
      "cover015.png Recoverd\n",
      "cover020.png Recoverd\n",
      "cover030.png Recoverd\n",
      "cover022.png Recoverd\n",
      "cover031.png Recoverd\n",
      "cover007.png Recoverd\n",
      "cover044.png Recoverd\n",
      "cover028.png Recoverd\n",
      "cover024.png Recoverd\n",
      "cover042.png Recoverd\n",
      "cover006.png Recoverd\n",
      "cover047.png Recoverd\n",
      "cover010.png Recoverd\n",
      "cover045.png Recoverd\n",
      "cover035.png Recoverd\n",
      "cover039.png Recoverd\n",
      "cover029.png Recoverd\n",
      "cover027.png Recoverd\n",
      "cover033.png Recoverd\n"
     ]
    }
   ],
   "source": [
    "\n",
    "recover()"
   ]
  }
 ],
 "metadata": {
  "kernelspec": {
   "display_name": "Python 3",
   "language": "python",
   "name": "python3"
  },
  "language_info": {
   "codemirror_mode": {
    "name": "ipython",
    "version": 3
   },
   "file_extension": ".py",
   "mimetype": "text/x-python",
   "name": "python",
   "nbconvert_exporter": "python",
   "pygments_lexer": "ipython3",
   "version": "3.7.6"
  }
 },
 "nbformat": 4,
 "nbformat_minor": 4
}
