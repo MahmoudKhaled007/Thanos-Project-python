{
 "cells": [
  {
   "cell_type": "code",
   "execution_count": 262,
   "metadata": {},
   "outputs": [],
   "source": [
    "import os\n",
    "import random\n",
    "\n",
    "def backup_img_name():\n",
    "    #loc1= os.chdir('C://Users//Commandor//course//Thanos Project//backup')\n",
    "   # return loc1\n",
    "    file1=os.listdir()  \n",
    "    return file1\n"
   ]
  },
  {
   "cell_type": "code",
   "execution_count": 263,
   "metadata": {},
   "outputs": [],
   "source": [
    "\n",
    "def universe_img_name():\n",
    "    #loc2=os.chdir('C://Users//Commandor//course//Thanos Project//universe')\n",
    "   # return loc2\n",
    "    file2=os.listdir()\n",
    "    return file2"
   ]
  },
  {
   "cell_type": "code",
   "execution_count": 264,
   "metadata": {
    "scrolled": true
   },
   "outputs": [
    {
     "data": {
      "text/plain": [
       "['cover001.png',\n",
       " 'cover002.png',\n",
       " 'cover003.png',\n",
       " 'cover004.png',\n",
       " 'cover005.png',\n",
       " 'cover006.png',\n",
       " 'cover007.png',\n",
       " 'cover008.png',\n",
       " 'cover009.png',\n",
       " 'cover010.png',\n",
       " 'cover011.png',\n",
       " 'cover012.png',\n",
       " 'cover013.png',\n",
       " 'cover014.png',\n",
       " 'cover015.png',\n",
       " 'cover016.png',\n",
       " 'cover017.png',\n",
       " 'cover018.png',\n",
       " 'cover019.png',\n",
       " 'cover020.png',\n",
       " 'cover021.png',\n",
       " 'cover022.png',\n",
       " 'cover023.png',\n",
       " 'cover024.png',\n",
       " 'cover025.png',\n",
       " 'cover026.png',\n",
       " 'cover027.png',\n",
       " 'cover028.png',\n",
       " 'cover029.png',\n",
       " 'cover030.png',\n",
       " 'cover031.png',\n",
       " 'cover032.png',\n",
       " 'cover033.png',\n",
       " 'cover034.png',\n",
       " 'cover035.png',\n",
       " 'cover036.png',\n",
       " 'cover037.png',\n",
       " 'cover038.png',\n",
       " 'cover039.png',\n",
       " 'cover040.png',\n",
       " 'cover041.png',\n",
       " 'cover042.png',\n",
       " 'cover043.png',\n",
       " 'cover044.png',\n",
       " 'cover045.png',\n",
       " 'cover046.png',\n",
       " 'cover047.png',\n",
       " 'cover048.png',\n",
       " 'cover049.png',\n",
       " 'cover050.png']"
      ]
     },
     "execution_count": 264,
     "metadata": {},
     "output_type": "execute_result"
    }
   ],
   "source": [
    "backup_img_name()"
   ]
  },
  {
   "cell_type": "code",
   "execution_count": 265,
   "metadata": {},
   "outputs": [
    {
     "data": {
      "text/plain": [
       "['cover001.png',\n",
       " 'cover002.png',\n",
       " 'cover003.png',\n",
       " 'cover004.png',\n",
       " 'cover005.png',\n",
       " 'cover006.png',\n",
       " 'cover007.png',\n",
       " 'cover008.png',\n",
       " 'cover009.png',\n",
       " 'cover010.png',\n",
       " 'cover011.png',\n",
       " 'cover012.png',\n",
       " 'cover013.png',\n",
       " 'cover014.png',\n",
       " 'cover015.png',\n",
       " 'cover016.png',\n",
       " 'cover017.png',\n",
       " 'cover018.png',\n",
       " 'cover019.png',\n",
       " 'cover020.png',\n",
       " 'cover021.png',\n",
       " 'cover022.png',\n",
       " 'cover023.png',\n",
       " 'cover024.png',\n",
       " 'cover025.png',\n",
       " 'cover026.png',\n",
       " 'cover027.png',\n",
       " 'cover028.png',\n",
       " 'cover029.png',\n",
       " 'cover030.png',\n",
       " 'cover031.png',\n",
       " 'cover032.png',\n",
       " 'cover033.png',\n",
       " 'cover034.png',\n",
       " 'cover035.png',\n",
       " 'cover036.png',\n",
       " 'cover037.png',\n",
       " 'cover038.png',\n",
       " 'cover039.png',\n",
       " 'cover040.png',\n",
       " 'cover041.png',\n",
       " 'cover042.png',\n",
       " 'cover043.png',\n",
       " 'cover044.png',\n",
       " 'cover045.png',\n",
       " 'cover046.png',\n",
       " 'cover047.png',\n",
       " 'cover048.png',\n",
       " 'cover049.png',\n",
       " 'cover050.png']"
      ]
     },
     "execution_count": 265,
     "metadata": {},
     "output_type": "execute_result"
    }
   ],
   "source": [
    "universe_img_name()"
   ]
  },
  {
   "cell_type": "code",
   "execution_count": 266,
   "metadata": {},
   "outputs": [],
   "source": [
    "def half1(fun_return):\n",
    "    half_file=[]\n",
    "    for i in range(int(len(fun_return)/2)):\n",
    "        half_file.append(fun_return[i])\n",
    "    return half_file"
   ]
  },
  {
   "cell_type": "code",
   "execution_count": 267,
   "metadata": {},
   "outputs": [
    {
     "data": {
      "text/plain": [
       "['cover001.png',\n",
       " 'cover002.png',\n",
       " 'cover003.png',\n",
       " 'cover004.png',\n",
       " 'cover005.png',\n",
       " 'cover006.png',\n",
       " 'cover007.png',\n",
       " 'cover008.png',\n",
       " 'cover009.png',\n",
       " 'cover010.png',\n",
       " 'cover011.png',\n",
       " 'cover012.png',\n",
       " 'cover013.png',\n",
       " 'cover014.png',\n",
       " 'cover015.png',\n",
       " 'cover016.png',\n",
       " 'cover017.png',\n",
       " 'cover018.png',\n",
       " 'cover019.png',\n",
       " 'cover020.png',\n",
       " 'cover021.png',\n",
       " 'cover022.png',\n",
       " 'cover023.png',\n",
       " 'cover024.png',\n",
       " 'cover025.png']"
      ]
     },
     "execution_count": 267,
     "metadata": {},
     "output_type": "execute_result"
    }
   ],
   "source": [
    "half1(universe_img_name())"
   ]
  },
  {
   "cell_type": "code",
   "execution_count": 268,
   "metadata": {},
   "outputs": [],
   "source": [
    "import random\n",
    "\n",
    "def kill_half(fun2_return):\n",
    "    killed = random.choices(fun2_return, k=25)\n",
    "    return killed"
   ]
  },
  {
   "cell_type": "code",
   "execution_count": 269,
   "metadata": {},
   "outputs": [
    {
     "data": {
      "text/plain": [
       "['cover019.png',\n",
       " 'cover047.png',\n",
       " 'cover027.png',\n",
       " 'cover047.png',\n",
       " 'cover026.png',\n",
       " 'cover040.png',\n",
       " 'cover006.png',\n",
       " 'cover018.png',\n",
       " 'cover036.png',\n",
       " 'cover016.png',\n",
       " 'cover028.png',\n",
       " 'cover049.png',\n",
       " 'cover032.png',\n",
       " 'cover026.png',\n",
       " 'cover007.png',\n",
       " 'cover020.png',\n",
       " 'cover038.png',\n",
       " 'cover009.png',\n",
       " 'cover042.png',\n",
       " 'cover031.png',\n",
       " 'cover032.png',\n",
       " 'cover047.png',\n",
       " 'cover033.png',\n",
       " 'cover041.png',\n",
       " 'cover045.png']"
      ]
     },
     "execution_count": 269,
     "metadata": {},
     "output_type": "execute_result"
    }
   ],
   "source": [
    "kill_half(universe_img_name())\n",
    "\n"
   ]
  },
  {
   "cell_type": "code",
   "execution_count": 270,
   "metadata": {},
   "outputs": [],
   "source": [
    "def del_half(folder):\n",
    "    back='C:/Users/Commandor/course/Thanos Project/backup/'\n",
    "    uni=\"C:/Users/Commandor/course/Thanos Project/universe/\"\n",
    "    forback=[x for x in kill_half(universe_img_name())]\n",
    "    \n",
    "            \n",
    "    if folder is 'universe':\n",
    "        file=kill_half(universe_img_name())\n",
    "        for i in range (len(file)):\n",
    "            path = os.path.join(uni, file[i])\n",
    "            os.remove(path)\n",
    "            print('killed',file)\n",
    "   "
   ]
  },
  {
   "cell_type": "code",
   "execution_count": 271,
   "metadata": {},
   "outputs": [
    {
     "name": "stdout",
     "output_type": "stream",
     "text": [
      "killed ['cover018.png', 'cover002.png', 'cover045.png', 'cover026.png', 'cover046.png', 'cover022.png', 'cover002.png', 'cover021.png', 'cover028.png', 'cover022.png', 'cover041.png', 'cover010.png', 'cover003.png', 'cover022.png', 'cover014.png', 'cover034.png', 'cover043.png', 'cover037.png', 'cover023.png', 'cover018.png', 'cover046.png', 'cover037.png', 'cover043.png', 'cover029.png', 'cover020.png']\n",
      "killed ['cover018.png', 'cover002.png', 'cover045.png', 'cover026.png', 'cover046.png', 'cover022.png', 'cover002.png', 'cover021.png', 'cover028.png', 'cover022.png', 'cover041.png', 'cover010.png', 'cover003.png', 'cover022.png', 'cover014.png', 'cover034.png', 'cover043.png', 'cover037.png', 'cover023.png', 'cover018.png', 'cover046.png', 'cover037.png', 'cover043.png', 'cover029.png', 'cover020.png']\n",
      "killed ['cover018.png', 'cover002.png', 'cover045.png', 'cover026.png', 'cover046.png', 'cover022.png', 'cover002.png', 'cover021.png', 'cover028.png', 'cover022.png', 'cover041.png', 'cover010.png', 'cover003.png', 'cover022.png', 'cover014.png', 'cover034.png', 'cover043.png', 'cover037.png', 'cover023.png', 'cover018.png', 'cover046.png', 'cover037.png', 'cover043.png', 'cover029.png', 'cover020.png']\n",
      "killed ['cover018.png', 'cover002.png', 'cover045.png', 'cover026.png', 'cover046.png', 'cover022.png', 'cover002.png', 'cover021.png', 'cover028.png', 'cover022.png', 'cover041.png', 'cover010.png', 'cover003.png', 'cover022.png', 'cover014.png', 'cover034.png', 'cover043.png', 'cover037.png', 'cover023.png', 'cover018.png', 'cover046.png', 'cover037.png', 'cover043.png', 'cover029.png', 'cover020.png']\n",
      "killed ['cover018.png', 'cover002.png', 'cover045.png', 'cover026.png', 'cover046.png', 'cover022.png', 'cover002.png', 'cover021.png', 'cover028.png', 'cover022.png', 'cover041.png', 'cover010.png', 'cover003.png', 'cover022.png', 'cover014.png', 'cover034.png', 'cover043.png', 'cover037.png', 'cover023.png', 'cover018.png', 'cover046.png', 'cover037.png', 'cover043.png', 'cover029.png', 'cover020.png']\n",
      "killed ['cover018.png', 'cover002.png', 'cover045.png', 'cover026.png', 'cover046.png', 'cover022.png', 'cover002.png', 'cover021.png', 'cover028.png', 'cover022.png', 'cover041.png', 'cover010.png', 'cover003.png', 'cover022.png', 'cover014.png', 'cover034.png', 'cover043.png', 'cover037.png', 'cover023.png', 'cover018.png', 'cover046.png', 'cover037.png', 'cover043.png', 'cover029.png', 'cover020.png']\n"
     ]
    },
    {
     "ename": "FileNotFoundError",
     "evalue": "[WinError 2] The system cannot find the file specified: 'C:/Users/Commandor/course/Thanos Project/universe/cover002.png'",
     "output_type": "error",
     "traceback": [
      "\u001b[1;31m---------------------------------------------------------------------------\u001b[0m",
      "\u001b[1;31mFileNotFoundError\u001b[0m                         Traceback (most recent call last)",
      "\u001b[1;32m<ipython-input-271-7317f6e9bd4d>\u001b[0m in \u001b[0;36m<module>\u001b[1;34m\u001b[0m\n\u001b[1;32m----> 1\u001b[1;33m \u001b[0mdel_half\u001b[0m\u001b[1;33m(\u001b[0m\u001b[1;34m'universe'\u001b[0m\u001b[1;33m)\u001b[0m\u001b[1;33m\u001b[0m\u001b[1;33m\u001b[0m\u001b[0m\n\u001b[0m",
      "\u001b[1;32m<ipython-input-270-79047fbb92c8>\u001b[0m in \u001b[0;36mdel_half\u001b[1;34m(folder)\u001b[0m\n\u001b[0;32m      9\u001b[0m         \u001b[1;32mfor\u001b[0m \u001b[0mi\u001b[0m \u001b[1;32min\u001b[0m \u001b[0mrange\u001b[0m \u001b[1;33m(\u001b[0m\u001b[0mlen\u001b[0m\u001b[1;33m(\u001b[0m\u001b[0mfile\u001b[0m\u001b[1;33m)\u001b[0m\u001b[1;33m)\u001b[0m\u001b[1;33m:\u001b[0m\u001b[1;33m\u001b[0m\u001b[1;33m\u001b[0m\u001b[0m\n\u001b[0;32m     10\u001b[0m             \u001b[0mpath\u001b[0m \u001b[1;33m=\u001b[0m \u001b[0mos\u001b[0m\u001b[1;33m.\u001b[0m\u001b[0mpath\u001b[0m\u001b[1;33m.\u001b[0m\u001b[0mjoin\u001b[0m\u001b[1;33m(\u001b[0m\u001b[0muni\u001b[0m\u001b[1;33m,\u001b[0m \u001b[0mfile\u001b[0m\u001b[1;33m[\u001b[0m\u001b[0mi\u001b[0m\u001b[1;33m]\u001b[0m\u001b[1;33m)\u001b[0m\u001b[1;33m\u001b[0m\u001b[1;33m\u001b[0m\u001b[0m\n\u001b[1;32m---> 11\u001b[1;33m             \u001b[0mos\u001b[0m\u001b[1;33m.\u001b[0m\u001b[0mremove\u001b[0m\u001b[1;33m(\u001b[0m\u001b[0mpath\u001b[0m\u001b[1;33m)\u001b[0m\u001b[1;33m\u001b[0m\u001b[1;33m\u001b[0m\u001b[0m\n\u001b[0m\u001b[0;32m     12\u001b[0m             \u001b[0mprint\u001b[0m\u001b[1;33m(\u001b[0m\u001b[1;34m'killed'\u001b[0m\u001b[1;33m,\u001b[0m\u001b[0mfile\u001b[0m\u001b[1;33m)\u001b[0m\u001b[1;33m\u001b[0m\u001b[1;33m\u001b[0m\u001b[0m\n\u001b[0;32m     13\u001b[0m \u001b[1;33m\u001b[0m\u001b[0m\n",
      "\u001b[1;31mFileNotFoundError\u001b[0m: [WinError 2] The system cannot find the file specified: 'C:/Users/Commandor/course/Thanos Project/universe/cover002.png'"
     ]
    }
   ],
   "source": [
    "del_half('universe')\n"
   ]
  }
 ],
 "metadata": {
  "kernelspec": {
   "display_name": "Python 3",
   "language": "python",
   "name": "python3"
  },
  "language_info": {
   "codemirror_mode": {
    "name": "ipython",
    "version": 3
   },
   "file_extension": ".py",
   "mimetype": "text/x-python",
   "name": "python",
   "nbconvert_exporter": "python",
   "pygments_lexer": "ipython3",
   "version": "3.7.6"
  }
 },
 "nbformat": 4,
 "nbformat_minor": 4
}
